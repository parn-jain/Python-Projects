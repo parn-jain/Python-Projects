{
 "cells": [
  {
   "cell_type": "code",
   "execution_count": 1,
   "id": "f91d1a16",
   "metadata": {},
   "outputs": [
    {
     "name": "stdout",
     "output_type": "stream",
     "text": [
      "importing Jupyter notebook from Dice_Roll_and_RPC_combine.ipynb\n",
      "4 3\n",
      "importing Jupyter notebook from KBC.ipynb\n",
      "importing Jupyter notebook from SignIn_SignUp_System.ipynb\n",
      "2d animation\n",
      "Pj@123456\n",
      "dict_items([('admin', 'Pj@123456')])\n"
     ]
    }
   ],
   "source": [
    "import import_ipynb\n",
    "import Dice_Roll_and_RPC_combine as rpc\n",
    "import KBC as kbc\n",
    "import SignIn_SignUp_System as auth"
   ]
  },
  {
   "cell_type": "code",
   "execution_count": 2,
   "id": "66fa16c1",
   "metadata": {},
   "outputs": [],
   "source": [
    "userData = {\n",
    "    'name' : 'Pass',\n",
    "    'score' : 'Pass',\n",
    "    'money_earned' : 'Pass',\n",
    "    'match-played':'pass',\n",
    "    'RPC status':'pass'\n",
    "}"
   ]
  },
  {
   "cell_type": "code",
   "execution_count": 9,
   "id": "4d977302",
   "metadata": {},
   "outputs": [
    {
     "name": "stdout",
     "output_type": "stream",
     "text": [
      "do you want to play gameyes\n",
      "Press 1 for signup, 2 for sign in2\n",
      "Enter you user Nameadmin\n",
      "enter your passwordPj@123456\n",
      " Welcome admin\n",
      "admin\n",
      "admin\n",
      "Press 1 for KBC 2 for Rock Paper Scesor1\n",
      "Rules:\n",
      "                     1.) Enter the correct option in the text box\n",
      "                     2.) If you want to use Life Line\n",
      "                              i.)  Enter 1 for 50-50\n",
      "                              ii.) Enter 2 for Audience Pool\n",
      "                              iii.)Enter 3 for Pass\n",
      "value of j in 1\n",
      "who is the 1st prime minister of india\n",
      "your options are\n",
      "[{'A': 'Parn jain'}, {'B': 'Rohit Sharma'}, {'C': 'Jawahar Lal nehru'}, {'D': 'Rajendra Prasad'}]\n",
      "enter the corect answer or 1,2,3 for Life Linesc\n",
      "you are on level 1\n",
      "you won 1000 rupies\n",
      "value of j in 2\n",
      "Q2.) The correct answer is C\n",
      "your options are\n",
      "[{'A:1a'}, {'B': '1b'}, {'C': '1c'}, {'D': '1d'}]\n",
      "enter the corect answer or 1,2,3 for Life Linesc\n",
      "you are on level 2\n",
      "you won 2000 rupies\n",
      "value of j in 3\n",
      "Q3.) The correct naswer is A\n",
      "your options are\n",
      "[{'A': '2a'}, {'B': '2b'}, {'C': '2c'}, {'D': '2f'}]\n",
      "enter the corect answer or 1,2,3 for Life Linesa\n",
      "you are on level 3\n",
      "you won 3000 rupies\n",
      "value of j in 4\n",
      "Q4.) the correct naswer is B\n",
      "your options are\n",
      "[{'A': '3a'}, {'B': '3b'}, {'C': '3c'}, {'D': '3f'}]\n",
      "enter the corect answer or 1,2,3 for Life Linesa\n",
      "You loose the game\n",
      "you looose , you completed level 3 you earn 3000\n",
      "the value of n is 3\n",
      "do you want to play gameno\n"
     ]
    }
   ],
   "source": [
    "z = 0\n",
    "\n",
    "def CombineGame(z):\n",
    "#     i = 0\n",
    "    k = input('Press 1 for signup, 2 for sign in')\n",
    "    if(k=='1'):\n",
    "        a = auth.signUp()\n",
    "    elif(k=='2'):\n",
    "        a = auth.signIn()\n",
    "    else:\n",
    "        print('invalid input')\n",
    "#     print(\"hello\")\n",
    "    print(a)\n",
    "    if(a):\n",
    "        print(a)\n",
    "        userData['name'] = a\n",
    "        x = input('Press 1 for KBC 2 for ''Rock Paper Scesor''')\n",
    "        if(x=='1'):\n",
    "            n = kbc.KBC(z)\n",
    "            userData['score'] = kbc.levels[n-1]\n",
    "            userData['money_earned'] = kbc.money[n-1]\n",
    "            print(f'the value of n is {n}')\n",
    "        elif(x=='2'):\n",
    "            asd = rpc.main(a)\n",
    "            print(asd)\n",
    "            userData['RPC status'] = asd[0]\n",
    "            userData['match-played'] = asd[1]\n",
    "        else:\n",
    "            print(\"invalid input\")\n",
    "flag = True\n",
    "while(flag):\n",
    "    x = input('do you want to play game').lower()\n",
    "    if(x=='yes'):\n",
    "        CombineGame(z)\n",
    "    else:\n",
    "        break\n",
    "    "
   ]
  },
  {
   "cell_type": "code",
   "execution_count": 4,
   "id": "a258b04e",
   "metadata": {},
   "outputs": [],
   "source": [
    "# a = [1,2,3]\n",
    "# def fun(a):\n",
    "#     a.insert(2,56)\n",
    "#     return a\n",
    "# print(fun(a.copy()))\n",
    "# a"
   ]
  },
  {
   "cell_type": "code",
   "execution_count": 11,
   "id": "c99937d2",
   "metadata": {},
   "outputs": [
    {
     "data": {
      "text/plain": [
       "{'name': 'admin',\n",
       " 'score': 3,\n",
       " 'money_earned': 3000,\n",
       " 'match-played': 4,\n",
       " 'RPC status': 'tie'}"
      ]
     },
     "execution_count": 11,
     "metadata": {},
     "output_type": "execute_result"
    }
   ],
   "source": [
    "userData"
   ]
  },
  {
   "cell_type": "code",
   "execution_count": 6,
   "id": "92cc5dc9",
   "metadata": {},
   "outputs": [
    {
     "data": {
      "text/plain": [
       "-1"
      ]
     },
     "execution_count": 6,
     "metadata": {},
     "output_type": "execute_result"
    }
   ],
   "source": [
    "##     i = 0\n",
    "#     print(kbcs\n",
    "# kbc.j\n",
    "# i\n",
    "# print(3)"
   ]
  },
  {
   "cell_type": "code",
   "execution_count": 8,
   "id": "e7612b5d",
   "metadata": {},
   "outputs": [
    {
     "data": {
      "text/plain": [
       "'h'"
      ]
     },
     "execution_count": 8,
     "metadata": {},
     "output_type": "execute_result"
    }
   ],
   "source": [
    "a = 'H'\n",
    "b = a.lower()\n",
    "b"
   ]
  }
 ],
 "metadata": {
  "kernelspec": {
   "display_name": "Python 3 (ipykernel)",
   "language": "python",
   "name": "python3"
  },
  "language_info": {
   "codemirror_mode": {
    "name": "ipython",
    "version": 3
   },
   "file_extension": ".py",
   "mimetype": "text/x-python",
   "name": "python",
   "nbconvert_exporter": "python",
   "pygments_lexer": "ipython3",
   "version": "3.10.5"
  }
 },
 "nbformat": 4,
 "nbformat_minor": 5
}

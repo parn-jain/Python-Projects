{
 "cells": [
  {
   "cell_type": "code",
   "execution_count": 1,
   "id": "e2bfda29",
   "metadata": {},
   "outputs": [],
   "source": [
    "# number of friends ko add kerna hay dinamically                                         \n",
    "# kharche ka tile likhker kisne kharcha kiya or kis kis ke beech split kerna hay vo likhna hay \n",
    "# agar A ko B and C se 5 - 5 rupay lene hay, and B ko A se 5 rupay lena hay to finally sab kat putke\n",
    "# A ko kewak C se 5 rupay lena hay wala hisab \n",
    "\n",
    "# har user ke andar 2 data aayenge, to take and to give therefore we can use dictionary, dictonary with the name of person"
   ]
  },
  {
   "cell_type": "code",
   "execution_count": 5,
   "id": "d59da643",
   "metadata": {},
   "outputs": [
    {
     "name": "stdout",
     "output_type": "stream",
     "text": [
      "Enter the total no of candidates3\n",
      "enter name of eachparn\n",
      "enter name of eachraghu\n",
      "enter name of eachsagar\n",
      "enter the amout paid33\n",
      "Person who paid the amountparn\n",
      "Persons between bill will be splitedraghu sagar\n"
     ]
    }
   ],
   "source": [
    "import pandas as pd\n",
    "n = int(input('Enter the total no of candidates'))\n",
    "l = []\n",
    "while n!=0:\n",
    "    x = input('enter name of each')\n",
    "    l.append(x)\n",
    "    n = n-1\n",
    "df = pd.DataFrame(columns = l,index = l)\n",
    "df\n",
    "\n",
    "\n",
    "\n",
    "def main():\n",
    "    amt = int(input('enter the amout paid'))\n",
    "    by = input('Person who paid the amount')\n",
    "    bw = input('Persons between bill will be splited')\n",
    "    if(bw=='All'):\n",
    "        df.loc[by] = amt/3\n",
    "    else:\n",
    "        s = bw.split(' ')\n",
    "        for i in s:\n",
    "            df[i][by] = amt/len(s)\n",
    "        \n",
    "    \n",
    "main()"
   ]
  },
  {
   "cell_type": "code",
   "execution_count": 43,
   "id": "6f7122d7",
   "metadata": {
    "scrolled": true
   },
   "outputs": [
    {
     "name": "stdout",
     "output_type": "stream",
     "text": [
      "Parn is balanced with Parn\n",
      "Raghu have to take2 from Parn\n",
      "Sagar have to take4 from Parn\n",
      "Raghu have to take2 from Parn\n",
      "Raghu is balanced with Raghu\n",
      "Sagar have to take2 from Raghu\n",
      "Sagar have to take4 from Parn\n",
      "Sagar have to take2 from Raghu\n",
      "Sagar is balanced with Sagar\n"
     ]
    }
   ],
   "source": [
    "# df['parn']['sagar'] = 45\n",
    "# df\n",
    "# df.loc['parn']=5\n",
    "\n",
    "\n",
    "# bw = 'asdf sdf'\n",
    "# s = bw.split(' ')\n",
    "# s\n",
    "# df.iloc[0][df.index[1]]\n",
    "# df\n",
    "newdf = pd.read_csv(r'BillSplitter.csv')\n",
    "df = newdf.set_index([l])\n",
    "\n",
    "def final():\n",
    "    for i in range(0,len(l)):\n",
    "        for j in range(0,len(l)):\n",
    "            if(df.iloc[i][df.index[j]]>df.iloc[j][df.index[i]]):\n",
    "                print(f'{df.index[i]} have to take{(df.iloc[i][df.index[j]])-(df.iloc[j][df.index[i]])} from {df.index[j]}')\n",
    "            elif(df.iloc[i][df.index[j]]<df.iloc[j][df.index[i]]):\n",
    "                print(f'{df.index[j]} have to take{(df.iloc[j][df.index[i]])-(df.iloc[i][df.index[j]])} from {df.index[i]}')\n",
    "            else:\n",
    "                print(f'{df.index[i]} is balanced with {df.index[j]}')\n",
    "final()"
   ]
  },
  {
   "cell_type": "code",
   "execution_count": 38,
   "id": "1ebc9f0c",
   "metadata": {},
   "outputs": [
    {
     "data": {
      "text/html": [
       "<div>\n",
       "<style scoped>\n",
       "    .dataframe tbody tr th:only-of-type {\n",
       "        vertical-align: middle;\n",
       "    }\n",
       "\n",
       "    .dataframe tbody tr th {\n",
       "        vertical-align: top;\n",
       "    }\n",
       "\n",
       "    .dataframe thead th {\n",
       "        text-align: right;\n",
       "    }\n",
       "</style>\n",
       "<table border=\"1\" class=\"dataframe\">\n",
       "  <thead>\n",
       "    <tr style=\"text-align: right;\">\n",
       "      <th></th>\n",
       "      <th>Parn</th>\n",
       "      <th>Raghu</th>\n",
       "      <th>Sagar</th>\n",
       "    </tr>\n",
       "  </thead>\n",
       "  <tbody>\n",
       "    <tr>\n",
       "      <th>Parn</th>\n",
       "      <td>1</td>\n",
       "      <td>2</td>\n",
       "      <td>3</td>\n",
       "    </tr>\n",
       "    <tr>\n",
       "      <th>Raghu</th>\n",
       "      <td>4</td>\n",
       "      <td>5</td>\n",
       "      <td>6</td>\n",
       "    </tr>\n",
       "    <tr>\n",
       "      <th>Sagar</th>\n",
       "      <td>7</td>\n",
       "      <td>8</td>\n",
       "      <td>9</td>\n",
       "    </tr>\n",
       "  </tbody>\n",
       "</table>\n",
       "</div>"
      ],
      "text/plain": [
       "       Parn  Raghu  Sagar\n",
       "Parn      1      2      3\n",
       "Raghu     4      5      6\n",
       "Sagar     7      8      9"
      ]
     },
     "execution_count": 38,
     "metadata": {},
     "output_type": "execute_result"
    }
   ],
   "source": [
    "l = ['Parn','Raghu','Sagar']\n",
    "# ndf = pd.DataFrame(columns = l,index = l)\n",
    "# ndf.to_csv('BillSplitter.csv',index = False)\n",
    "k = pd.read_csv(r'BillSplitter.csv')\n",
    "t = k.set_index([l])\n",
    "t\n",
    "# k"
   ]
  }
 ],
 "metadata": {
  "kernelspec": {
   "display_name": "Python 3 (ipykernel)",
   "language": "python",
   "name": "python3"
  },
  "language_info": {
   "codemirror_mode": {
    "name": "ipython",
    "version": 3
   },
   "file_extension": ".py",
   "mimetype": "text/x-python",
   "name": "python",
   "nbconvert_exporter": "python",
   "pygments_lexer": "ipython3",
   "version": "3.10.5"
  }
 },
 "nbformat": 4,
 "nbformat_minor": 5
}

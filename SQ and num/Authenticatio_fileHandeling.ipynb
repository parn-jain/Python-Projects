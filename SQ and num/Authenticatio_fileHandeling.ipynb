{
 "cells": [
  {
   "cell_type": "code",
   "execution_count": 1,
   "id": "fe63e73f",
   "metadata": {},
   "outputs": [],
   "source": [
    "import random\n",
    "import re\n",
    "import os"
   ]
  },
  {
   "cell_type": "code",
   "execution_count": 2,
   "id": "f359d94d",
   "metadata": {},
   "outputs": [],
   "source": [
    "try:\n",
    "    data = open('test.txt','r+')\n",
    "except:\n",
    "    data = open('test.txt','w+')\n",
    "    d = {}\n",
    "#   print(\"Something went wrong\")\n",
    "else:\n",
    "    a = data.read()\n",
    "    a = a.split('\\n')\n",
    "    a\n",
    "    if(a[-1]==''):\n",
    "        a.pop()\n",
    "    a\n",
    "    len(a)\n",
    "    for i in range(len(a)):\n",
    "        a[i] = a[i].split(':')\n",
    "    a \n",
    "    for i in range(len(a)):\n",
    "        a[i][1] = a[i][1].split(',')\n",
    "    a\n",
    "    d = dict(a)\n",
    "    d"
   ]
  },
  {
   "cell_type": "code",
   "execution_count": 3,
   "id": "b3edd27a",
   "metadata": {},
   "outputs": [],
   "source": [
    "# len(a)\n",
    "# for i in range(len(a)):\n",
    "#     a[i] = a[i].split(':')\n",
    "# a"
   ]
  },
  {
   "cell_type": "code",
   "execution_count": 4,
   "id": "1f5a8570",
   "metadata": {},
   "outputs": [],
   "source": [
    "# for i in range(len(a)):\n",
    "#     a[i][1] = a[i][1].split(',')\n",
    "# a"
   ]
  },
  {
   "cell_type": "code",
   "execution_count": 5,
   "id": "64bbc27e",
   "metadata": {},
   "outputs": [],
   "source": [
    "# d = dict(a)\n",
    "# d"
   ]
  },
  {
   "cell_type": "code",
   "execution_count": null,
   "id": "92eb04fe",
   "metadata": {},
   "outputs": [],
   "source": []
  },
  {
   "cell_type": "code",
   "execution_count": null,
   "id": "67e8dc61",
   "metadata": {},
   "outputs": [],
   "source": []
  },
  {
   "cell_type": "code",
   "execution_count": 6,
   "id": "91e21eab",
   "metadata": {},
   "outputs": [],
   "source": [
    "# d ={'admin':'Pj@123456'}\n",
    "# num = {'+919399374451':'admin'}\n",
    "# SQ = {'admin':'2d animation'}\n",
    "# print(SQ['what is your hobby ?'])"
   ]
  },
  {
   "cell_type": "code",
   "execution_count": 7,
   "id": "6addc329",
   "metadata": {},
   "outputs": [],
   "source": [
    "# x = d['admin']\n",
    "# print(x)"
   ]
  },
  {
   "cell_type": "code",
   "execution_count": 8,
   "id": "65d57347",
   "metadata": {},
   "outputs": [],
   "source": [
    "def checkPasswordStrength():\n",
    "    while 1:\n",
    "        flag = 0\n",
    "        passUp = input(\"Enter a strong password\")\n",
    "        if(not(passUp.isdigit())):\n",
    "            flag = flag+1\n",
    "        if(not(passUp.isalpha())):\n",
    "            flag = flag + 1\n",
    "        if(not(passUp.isalnum())):\n",
    "            flag = flag + 1\n",
    "        if(flag==3):\n",
    "            return passUp\n",
    "def forgotPass(userIn):\n",
    "    flag2 = 3\n",
    "    while flag2:\n",
    "        t = input(\"what is your hobby ?\").lower()\n",
    "        if(t==d[userIn][2]):\n",
    "            \n",
    "            while 1:\n",
    "                s = checkPasswordStrength()\n",
    "                d['userIn'][0]=s\n",
    "                return s\n",
    "        else:\n",
    "            flag2 = flag2 - 1 \n",
    "            print(\"incorrect , please try again\")\n",
    "    return 'Failed'\n",
    "\n",
    "\n",
    "def SequrityQuest():\n",
    "    f = input('What is your hobby')\n",
    "#     SQ.update({userUp:f})\n",
    "    return f\n",
    "    \n",
    "def OTPgenerator():\n",
    "    otp = random.randint(1000,9999)\n",
    "    return otp\n",
    "def numSignUp():\n",
    "    x = input('enter mobile number')\n",
    "    return x\n",
    "\n",
    "\n",
    "def numSignIn(userIn):            #verifyUser\n",
    "    flag = True\n",
    "    while(flag):\n",
    "        inputMobNo = input('enter your registered mobile number')\n",
    "        if((inputMobNo in num) and num[inputMobNo]==userIn):\n",
    "            OTP = OTPgenerator()\n",
    "            print(OTP)\n",
    "            return OTP;\n",
    "\n",
    "\n",
    "def VerifyOTP(abcd,userIn):       #abcd is the return value of numSignIn\n",
    "    x = int(input(\"enter the OTP you get on your phone\"))\n",
    "    if(x == abcd):\n",
    "        while 1:\n",
    "            s = checkPasswordStrength()\n",
    "            d.update({userIn:s})\n",
    "            print(\"checked\")\n",
    "            return True\n",
    "    return False\n",
    "\n",
    "        \n",
    "def ResetPass(userIn):\n",
    "    x = input('''seems like you forgot your password to reset you password\n",
    "            press 1 for OTP method\n",
    "            press 2 for Security Question Method''')\n",
    "    if(x=='2'):\n",
    "        forgotPass(userIn)\n",
    "        signIn()\n",
    "    if(x=='1'):\n",
    "        abcd = numSignIn(userIn)\n",
    "        if VerifyOTP(abcd,userIn):\n",
    "            signIn()\n",
    "            return 'Successfull'\n",
    "        else:\n",
    "            return 'Failed'"
   ]
  },
  {
   "cell_type": "code",
   "execution_count": 9,
   "id": "9e17d15d",
   "metadata": {},
   "outputs": [
    {
     "name": "stdout",
     "output_type": "stream",
     "text": [
      "dict_items([('parnjain', ['parnjain', 'Pj@123', '9399374451']), ('hello', ['hello', '@', '4'])])\n",
      "dict_items([('parnjain', ['parnjain', 'Pj@123', '9399374451']), ('hello', ['hello', '@', '4'])])\n"
     ]
    }
   ],
   "source": [
    "def signUp():\n",
    "    dl=[]\n",
    "    while 1:\n",
    "        userUp = input('Enter a Username: ').lower()\n",
    "        if userUp =='0':\n",
    "            return 'Failed'\n",
    "        if userUp not in d:\n",
    "            passUp = checkPasswordStrength()\n",
    "            st1 = 3\n",
    "            while st1:\n",
    "                passUp2 = input(\"Re-enter your password\")\n",
    "                if(passUp==passUp2):\n",
    "#                     d.update({userUp:passUp})\n",
    "                    sqAns = SequrityQuest()\n",
    "                    Unum = numSignUp()\n",
    "#                     num.update({Unum:userUp})\n",
    "                    dl = [passUp,Unum,sqAns]\n",
    "                    d.update({userUp:dl})\n",
    "                    print('Sign Up successfull')\n",
    "#                     signIn()\n",
    "                    return True\n",
    "                else:\n",
    "                    print(\"Password does not match , please Try again\")\n",
    "            return 'Failed'\n",
    "        else:\n",
    "            print(\"\"\"Username already exists... Plz try another Username\n",
    "            Press 0 to exit \n",
    "            Or \"\"\")\n",
    "#         SequrityQuest()\n",
    "    \n",
    "            \n",
    "            \n",
    "# userIn = 'pass'\n",
    "print(d.items())\n",
    "def signIn():\n",
    "    flag1 = 3\n",
    "    while flag1:\n",
    "        userIn = input('Enter you user Name')\n",
    "        if(userIn in d):\n",
    "#             flag1 = 3\n",
    "            falg1 = 1\n",
    "            while flag1:\n",
    "                passIn = input(\"enter your password\")\n",
    "                if(passIn == d[userIn][1]):\n",
    "                    datasave(data)\n",
    "                    print(f\" Welcome {userIn}\")\n",
    "                    return userIn\n",
    "                else:\n",
    "                    print(\"invlaid password\")\n",
    "#                     flag1 = flag1-1\n",
    "#             ResetPass(userIn)\n",
    "                \n",
    "    \n",
    "        else:\n",
    "            flag1 = flag1 - 1\n",
    "    return False\n",
    "\n",
    "\n",
    "\n"
   ]
  },
  {
   "cell_type": "code",
   "execution_count": 10,
   "id": "5daf0a9f",
   "metadata": {},
   "outputs": [],
   "source": [
    "\n",
    "def datasave(data):\n",
    "    f = d.items()\n",
    "    nl = []\n",
    "    f = list(f)\n",
    "    for i in range(len(f)):\n",
    "        nl.append(f[i][0])\n",
    "        nl.append(f[i][1])\n",
    "    s= ''\n",
    "    x = 0\n",
    "    y = 0\n",
    "    for i in range((len(nl))-int(len(nl)/2)):\n",
    "        s+=f'{nl[0+x]}:{nl[1+x][0]},{nl[1+x][1]},{nl[1+x][2]}\\n'\n",
    "        x = x+2\n",
    "    s\n",
    "    data.close()\n",
    "    data = open('test.txt','w')\n",
    "    data.write(s)\n",
    "    data.close()\n",
    "# nl"
   ]
  },
  {
   "cell_type": "code",
   "execution_count": 11,
   "id": "be31bf41",
   "metadata": {},
   "outputs": [
    {
     "data": {
      "text/plain": [
       "{'parnjain': ['parnjain', 'Pj@123', '9399374451'],\n",
       " 'hello': ['hello', '@', '4']}"
      ]
     },
     "execution_count": 11,
     "metadata": {},
     "output_type": "execute_result"
    },
    {
     "data": {
      "text/plain": [
       "{'parnjain': ['parnjain', 'Pj@123', '9399374451'],\n",
       " 'hello': ['hello', '@', '4']}"
      ]
     },
     "execution_count": 11,
     "metadata": {},
     "output_type": "execute_result"
    }
   ],
   "source": [
    "# 'parn : Hello@123\\nmohit : Hi@123d'\n",
    "# s= ''\n",
    "# x = 0\n",
    "# y = 0\n",
    "# for i in range(len(nl)-2):\n",
    "#     s+=f'{nl[0+x]}:{nl[1+x]}\\n'\n",
    "#     x = x+2\n",
    "# s\n",
    "d\n",
    "    "
   ]
  },
  {
   "cell_type": "code",
   "execution_count": 25,
   "id": "ebb6e423",
   "metadata": {},
   "outputs": [
    {
     "name": "stdout",
     "output_type": "stream",
     "text": [
      "choose mode:\n",
      "        Press 1 to SignUp\n",
      "        Press 2 to SignIn\n",
      "        Press 0 to exit\n",
      "        : 1\n",
      "Enter a Username: hi\n",
      "Username already exists... Plz try another Username\n",
      "            Press 0 to exit \n",
      "            Or \n",
      "Username already exists... Plz try another Username\n",
      "            Press 0 to exit \n",
      "            Or \n",
      "Enter a Username: g\n",
      "Enter a strong password@\n",
      "Re-enter your password@\n",
      "What is your hobbysdf\n",
      "enter mobile numbersefd\n",
      "Sign Up successfull\n",
      "Sign Up successfull\n"
     ]
    },
    {
     "data": {
      "text/plain": [
       "'Done'"
      ]
     },
     "execution_count": 25,
     "metadata": {},
     "output_type": "execute_result"
    },
    {
     "data": {
      "text/plain": [
       "'Done'"
      ]
     },
     "execution_count": 25,
     "metadata": {},
     "output_type": "execute_result"
    }
   ],
   "source": [
    "def main():\n",
    "    while 1:\n",
    "        mode = input('''choose mode:\n",
    "        Press 1 to SignUp\n",
    "        Press 2 to SignIn\n",
    "        Press 0 to exit\n",
    "        : ''')\n",
    "        if(mode=='1'):\n",
    "            signUp()\n",
    "            datasave()\n",
    "#             break\n",
    "            return 'Done'\n",
    "#             print('signUp')\n",
    "        elif(mode=='2'):\n",
    "            signIn()\n",
    "#             break\n",
    "            return True\n",
    "        elif(mode=='0'):\n",
    "            print(\"Thankyou for using our service\")\n",
    "            datasave(data)\n",
    "            break\n",
    "        else:\n",
    "            print(\"enter valid input\")\n",
    "main()"
   ]
  },
  {
   "cell_type": "code",
   "execution_count": 13,
   "id": "c55e7d11",
   "metadata": {},
   "outputs": [],
   "source": [
    "# h = 0\n",
    "# d = f\"hsdfvd{h}\"\n",
    "# d"
   ]
  },
  {
   "cell_type": "code",
   "execution_count": 14,
   "id": "6ae0c41e",
   "metadata": {},
   "outputs": [],
   "source": [
    "data.close()"
   ]
  },
  {
   "cell_type": "code",
   "execution_count": 15,
   "id": "3c75d263",
   "metadata": {},
   "outputs": [
    {
     "data": {
      "text/plain": [
       "[('parnjain', ['parnjain', 'Pj@123', '9399374451']),\n",
       " ('hello', ['hello', '@', '4']),\n",
       " ('hi', ['@', '4', 'nahipata'])]"
      ]
     },
     "execution_count": 15,
     "metadata": {},
     "output_type": "execute_result"
    },
    {
     "data": {
      "text/plain": [
       "[('parnjain', ['parnjain', 'Pj@123', '9399374451']),\n",
       " ('hello', ['hello', '@', '4']),\n",
       " ('hi', ['@', '4', 'nahipata'])]"
      ]
     },
     "execution_count": 15,
     "metadata": {},
     "output_type": "execute_result"
    }
   ],
   "source": [
    "list(d.items())"
   ]
  },
  {
   "cell_type": "code",
   "execution_count": 16,
   "id": "3372439d",
   "metadata": {},
   "outputs": [],
   "source": [
    "# for i in range(len(nl)-(int(len(nl))/2)):\n",
    "#     print('hi')"
   ]
  },
  {
   "cell_type": "code",
   "execution_count": 17,
   "id": "1f019dbb",
   "metadata": {},
   "outputs": [
    {
     "data": {
      "text/plain": [
       "'hi'"
      ]
     },
     "execution_count": 17,
     "metadata": {},
     "output_type": "execute_result"
    },
    {
     "data": {
      "text/plain": [
       "'hi'"
      ]
     },
     "execution_count": 17,
     "metadata": {},
     "output_type": "execute_result"
    }
   ],
   "source": [
    "t = {'helo':'hi'}\n",
    "t.update({'helas':'jain'})\n",
    "t['helo']"
   ]
  },
  {
   "cell_type": "code",
   "execution_count": 18,
   "id": "b3a53fa2",
   "metadata": {},
   "outputs": [
    {
     "data": {
      "text/plain": [
       "{'parn': ['Hello@123', '9399374451', '2D animation'],\n",
       " 'mohit': ['Hi@123', '7894561230', 'patanahi'],\n",
       " 'mohit2': ['Hi@123', '7894561230', 'patanahi']}"
      ]
     },
     "execution_count": 18,
     "metadata": {},
     "output_type": "execute_result"
    },
    {
     "data": {
      "text/plain": [
       "{'parn': ['Hello@123', '9399374451', '2D animation'],\n",
       " 'mohit': ['Hi@123', '7894561230', 'patanahi'],\n",
       " 'mohit2': ['Hi@123', '7894561230', 'patanahi']}"
      ]
     },
     "execution_count": 18,
     "metadata": {},
     "output_type": "execute_result"
    }
   ],
   "source": [
    "d2 = {'parn': ['Hello@123', '9399374451', '2D animation'],\n",
    " 'mohit': ['Hi@123', '7894561230', 'patanahi'],\n",
    "     'mohit2': ['Hi@123', '7894561230', 'patanahi']}\n",
    "d2"
   ]
  },
  {
   "cell_type": "code",
   "execution_count": 19,
   "id": "e5c2c76e",
   "metadata": {},
   "outputs": [
    {
     "data": {
      "text/plain": [
       "{'parn': ['Hello@123', '8349269825', '2D animation'],\n",
       " 'mohit': ['Hi@123', '7894561230', 'patanahi'],\n",
       " 'mohit2': ['Hi@123', '7894561230', 'patanahi']}"
      ]
     },
     "execution_count": 19,
     "metadata": {},
     "output_type": "execute_result"
    },
    {
     "data": {
      "text/plain": [
       "{'parn': ['Hello@123', '8349269825', '2D animation'],\n",
       " 'mohit': ['Hi@123', '7894561230', 'patanahi'],\n",
       " 'mohit2': ['Hi@123', '7894561230', 'patanahi']}"
      ]
     },
     "execution_count": 19,
     "metadata": {},
     "output_type": "execute_result"
    }
   ],
   "source": [
    "# d2.update({d['parn']:d['parn'][1]='8349269825'})\n",
    "d2['parn'][1] = '8349269825'\n",
    "d2"
   ]
  },
  {
   "cell_type": "code",
   "execution_count": 20,
   "id": "8b5e8791",
   "metadata": {},
   "outputs": [
    {
     "data": {
      "text/plain": [
       "[('parn', ['Hello@123', '8349269825', '2D animation']),\n",
       " ('mohit', ['Hi@123', '7894561230', 'patanahi']),\n",
       " ('mohit2', ['Hi@123', '7894561230', 'patanahi'])]"
      ]
     },
     "execution_count": 20,
     "metadata": {},
     "output_type": "execute_result"
    },
    {
     "data": {
      "text/plain": [
       "[('parn', ['Hello@123', '8349269825', '2D animation']),\n",
       " ('mohit', ['Hi@123', '7894561230', 'patanahi']),\n",
       " ('mohit2', ['Hi@123', '7894561230', 'patanahi'])]"
      ]
     },
     "execution_count": 20,
     "metadata": {},
     "output_type": "execute_result"
    }
   ],
   "source": [
    "f = list(d2.items())\n",
    "f"
   ]
  },
  {
   "cell_type": "code",
   "execution_count": 21,
   "id": "a96d4f08",
   "metadata": {},
   "outputs": [
    {
     "data": {
      "text/plain": [
       "'parn:Hello@123,8349269825,2D animation\\nmohit:Hi@123,7894561230,patanahi\\nmohit2:Hi@123,7894561230,patanahi\\n'"
      ]
     },
     "execution_count": 21,
     "metadata": {},
     "output_type": "execute_result"
    },
    {
     "data": {
      "text/plain": [
       "'parn:Hello@123,8349269825,2D animation\\nmohit:Hi@123,7894561230,patanahi\\nmohit2:Hi@123,7894561230,patanahi\\n'"
      ]
     },
     "execution_count": 21,
     "metadata": {},
     "output_type": "execute_result"
    }
   ],
   "source": [
    "f = d2.items()\n",
    "nl = []\n",
    "f = list(f)\n",
    "for i in range(len(f)):\n",
    "    nl.append(f[i][0])\n",
    "    nl.append(f[i][1])\n",
    "s= ''\n",
    "x = 0\n",
    "y = 0\n",
    "for i in range((len(nl))-int(len(nl)/2)):\n",
    "    s+=f'{nl[0+x]}:{nl[1+x][0]},{nl[1+x][1]},{nl[1+x][2]}\\n'\n",
    "    x = x+2\n",
    "s"
   ]
  },
  {
   "cell_type": "code",
   "execution_count": 22,
   "id": "0dc65ec6",
   "metadata": {},
   "outputs": [
    {
     "data": {
      "text/plain": [
       "{'parnjain': ['parnjain', 'Pj@123', '9399374451'],\n",
       " 'hello': ['hello', '@', '4'],\n",
       " 'hi': ['@', '4', 'nahipata']}"
      ]
     },
     "execution_count": 22,
     "metadata": {},
     "output_type": "execute_result"
    },
    {
     "data": {
      "text/plain": [
       "{'parnjain': ['parnjain', 'Pj@123', '9399374451'],\n",
       " 'hello': ['hello', '@', '4'],\n",
       " 'hi': ['@', '4', 'nahipata']}"
      ]
     },
     "execution_count": 22,
     "metadata": {},
     "output_type": "execute_result"
    }
   ],
   "source": [
    "d"
   ]
  },
  {
   "cell_type": "code",
   "execution_count": 23,
   "id": "331db822",
   "metadata": {},
   "outputs": [],
   "source": [
    "fwp = open(r'fh.txt','w+')"
   ]
  }
 ],
 "metadata": {
  "kernelspec": {
   "display_name": "Python 3 (ipykernel)",
   "language": "python",
   "name": "python3"
  },
  "language_info": {
   "codemirror_mode": {
    "name": "ipython",
    "version": 3
   },
   "file_extension": ".py",
   "mimetype": "text/x-python",
   "name": "python",
   "nbconvert_exporter": "python",
   "pygments_lexer": "ipython3",
   "version": "3.10.5"
  }
 },
 "nbformat": 4,
 "nbformat_minor": 5
}

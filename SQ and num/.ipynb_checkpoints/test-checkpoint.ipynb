{
 "cells": [
  {
   "cell_type": "code",
   "execution_count": 1,
   "id": "2139a152",
   "metadata": {},
   "outputs": [],
   "source": [
    "import os"
   ]
  },
  {
   "cell_type": "code",
   "execution_count": 3,
   "id": "83453e93",
   "metadata": {},
   "outputs": [
    {
     "data": {
      "text/plain": [
       "['parn:Hello@123,9399374451,2D animation', 'mohit:Hi@123,7894561230,patanahi']"
      ]
     },
     "execution_count": 3,
     "metadata": {},
     "output_type": "execute_result"
    }
   ],
   "source": [
    "f = open('test.txt','r+')\n",
    "a = f.read()\n",
    "a = a.split('\\n')\n",
    "a\n",
    "if(a[-1]==''):\n",
    "    a.pop()\n",
    "a"
   ]
  },
  {
   "cell_type": "code",
   "execution_count": 4,
   "id": "abcb17e0",
   "metadata": {},
   "outputs": [
    {
     "data": {
      "text/plain": [
       "[['parn', 'Hello@123,9399374451,2D animation'],\n",
       " ['mohit', 'Hi@123,7894561230,patanahi']]"
      ]
     },
     "execution_count": 4,
     "metadata": {},
     "output_type": "execute_result"
    }
   ],
   "source": [
    "len(a)\n",
    "for i in range(len(a)):\n",
    "    a[i] = a[i].split(':')\n",
    "a"
   ]
  },
  {
   "cell_type": "code",
   "execution_count": null,
   "id": "718dd131",
   "metadata": {},
   "outputs": [],
   "source": []
  },
  {
   "cell_type": "code",
   "execution_count": 5,
   "id": "4e0cb46c",
   "metadata": {},
   "outputs": [],
   "source": [
    "f.seek(0)\n",
    "f.read()\n",
    "f.close()"
   ]
  }
 ],
 "metadata": {
  "kernelspec": {
   "display_name": "Python 3 (ipykernel)",
   "language": "python",
   "name": "python3"
  },
  "language_info": {
   "codemirror_mode": {
    "name": "ipython",
    "version": 3
   },
   "file_extension": ".py",
   "mimetype": "text/x-python",
   "name": "python",
   "nbconvert_exporter": "python",
   "pygments_lexer": "ipython3",
   "version": "3.10.5"
  }
 },
 "nbformat": 4,
 "nbformat_minor": 5
}

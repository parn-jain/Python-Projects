{
 "cells": [
  {
   "cell_type": "code",
   "execution_count": 1,
   "id": "6d69e145",
   "metadata": {},
   "outputs": [
    {
     "name": "stdout",
     "output_type": "stream",
     "text": [
      "[-----]\n",
      "[0    ]\n",
      "[-----]\n",
      "[    0]\n",
      "[-----]\n"
     ]
    },
    {
     "data": {
      "text/plain": [
       "2"
      ]
     },
     "execution_count": 1,
     "metadata": {},
     "output_type": "execute_result"
    }
   ],
   "source": [
    "def diceRoll():\n",
    "    import random\n",
    "    k = random.choice(range(0,7))\n",
    "    if(k==1):\n",
    "        print('[-----]')\n",
    "        print('[-----]')\n",
    "        print('[--0--]')\n",
    "        print('[-----]')\n",
    "        print('[-----]')\n",
    "    elif(k==2):\n",
    "        print('[-----]')\n",
    "        print('[0    ]')\n",
    "        print('[-----]')\n",
    "        print('[    0]')\n",
    "        print('[-----]')\n",
    "    elif(k==3):\n",
    "        print('[-----]')\n",
    "        print('[     ]')\n",
    "        print('[0 0 0]')\n",
    "        print('[     ]')\n",
    "        print('[-----]')\n",
    "    elif(k==4):\n",
    "        print('[-----]')\n",
    "        print('[0   0]')\n",
    "        print('[     ]')\n",
    "        print('[0   0]')\n",
    "        print('[-----]')\n",
    "    elif(k==5):\n",
    "        print('[-----]')\n",
    "        print('[0   0]')\n",
    "        print('[  0  ]')\n",
    "        print('[0   0]')\n",
    "        print('[-----]')\n",
    "    elif(k==6):\n",
    "        print('[-----]')\n",
    "        print('[0 0 0]')\n",
    "        print('[     ]')\n",
    "        print('[0 0 0]')\n",
    "        print('[-----]')\n",
    "#     print(k)\n",
    "    return k\n",
    "diceRoll()"
   ]
  },
  {
   "cell_type": "code",
   "execution_count": 2,
   "id": "bbc40b0c",
   "metadata": {},
   "outputs": [],
   "source": [
    "def RPS():\n",
    "    \n",
    "    l = ['R','P','S']\n",
    "    x = input(\"enter R for rock P for paper S for Scesor\").upper()\n",
    "    return x\n"
   ]
  },
  {
   "cell_type": "code",
   "execution_count": 5,
   "id": "5659fd5f",
   "metadata": {},
   "outputs": [
    {
     "name": "stdout",
     "output_type": "stream",
     "text": [
      "enter the no of match you want to play2\n",
      "type roll to roll the diceroll\n",
      "[-----]\n",
      "[0 0 0]\n",
      "[     ]\n",
      "[0 0 0]\n",
      "[-----]\n"
     ]
    },
    {
     "ename": "NameError",
     "evalue": "name 'userName' is not defined",
     "output_type": "error",
     "traceback": [
      "\u001b[1;31m---------------------------------------------------------------------------\u001b[0m",
      "\u001b[1;31mNameError\u001b[0m                                 Traceback (most recent call last)",
      "Cell \u001b[1;32mIn[5], line 82\u001b[0m\n\u001b[0;32m     78\u001b[0m         returnvariable \u001b[38;5;241m=\u001b[39m \u001b[38;5;124m'\u001b[39m\u001b[38;5;124muser1looses\u001b[39m\u001b[38;5;124m'\u001b[39m\n\u001b[0;32m     79\u001b[0m     \u001b[38;5;28;01mreturn\u001b[39;00m [returnvariable,totalMatch]\n\u001b[1;32m---> 82\u001b[0m \u001b[43mmain\u001b[49m\u001b[43m(\u001b[49m\u001b[43m)\u001b[49m\n",
      "Cell \u001b[1;32mIn[5], line 23\u001b[0m, in \u001b[0;36mmain\u001b[1;34m()\u001b[0m\n\u001b[0;32m     20\u001b[0m                 no \u001b[38;5;241m=\u001b[39m no\u001b[38;5;241m-\u001b[39m\u001b[38;5;241m1\u001b[39m\n\u001b[0;32m     21\u001b[0m \u001b[38;5;66;03m#                 if(no==0):\u001b[39;00m\n\u001b[0;32m     22\u001b[0m \u001b[38;5;66;03m#                     break\u001b[39;00m\n\u001b[1;32m---> 23\u001b[0m                 \u001b[38;5;28mprint\u001b[39m(\u001b[38;5;124mf\u001b[39m\u001b[38;5;124m'\u001b[39m\u001b[38;5;132;01m{\u001b[39;00m\u001b[43muserName\u001b[49m\u001b[38;5;132;01m}\u001b[39;00m\u001b[38;5;124m will choose 1st\u001b[39m\u001b[38;5;124m'\u001b[39m)\n\u001b[0;32m     24\u001b[0m                 user1RPS \u001b[38;5;241m=\u001b[39m RPS()\n\u001b[0;32m     25\u001b[0m                 user2RPS \u001b[38;5;241m=\u001b[39m RPS()\n",
      "\u001b[1;31mNameError\u001b[0m: name 'userName' is not defined"
     ]
    }
   ],
   "source": [
    "def main():\n",
    "    no = int(input('enter the no of match you want to play'))\n",
    "    returnvariable = 'null'\n",
    "    totalMatch = no\n",
    "    user1 = 0\n",
    "    user2 = 0\n",
    "    flag = no\n",
    "    user1RPS = 0\n",
    "    user2RPS = 0\n",
    "    user1wins = 0\n",
    "    user1loose = 0\n",
    "    tie = 0\n",
    "    while(no):\n",
    "#         print(f\"{userName} turn to roll a dice\")\n",
    "        x = input(\"type roll to roll the dice\").lower()\n",
    "        if(x=='roll'):\n",
    "            user1 = diceRoll()\n",
    "            if(user1==6):\n",
    "                user1 = 1\n",
    "                no = no-1\n",
    "#                 if(no==0):\n",
    "#                     break\n",
    "#                 print(f'{userName} will choose 1st')\n",
    "                user1RPS = RPS()\n",
    "                user2RPS = RPS()\n",
    "                if(user1RPS=='R' and user2RPS=='P'):\n",
    "                    print('user 2 wins')\n",
    "                elif(user1RPS=='R' and user2RPS=='R'):\n",
    "                    print('Tie')\n",
    "                elif(user1RPS=='R' and user2RPS=='S'):\n",
    "#                     print(f'{userName} wins')/\n",
    "#                 continue\n",
    "#                 break\n",
    "        print(\"user 2 turn to roll a dice\")\n",
    "        x = input(\"type roll to roll the dice\").lower()\n",
    "        if(x=='roll'):\n",
    "            user2 = diceRoll()\n",
    "            if(user2==6):\n",
    "                no = no-1\n",
    "#                 if(no==0):\n",
    "#                     break\n",
    "                user2 = 1\n",
    "                print('user 2 will choose 1st')\n",
    "                user2RPS = RPS()\n",
    "                user1RPS = RPS()\n",
    "                if(user1RPS=='R' and user2RPS=='P'):\n",
    "                    print('user 2 wins')\n",
    "                    user1loose = user1loose + 1\n",
    "                elif(user1RPS=='R' and user2RPS=='R'):\n",
    "                    print('Tie')\n",
    "                    tie = tie + 1\n",
    "                elif(user1RPS=='R' and user2RPS=='S'):\n",
    "#                     print(f'{userName} wins')\n",
    "                    user1wins = user1wins + 1\n",
    "    statusList = [user1wins,user1loose,tie]\n",
    "#                 tempF2 = False\n",
    "#                 break\n",
    "\n",
    "#         if(user1==1):\n",
    "#             user1RPS = RPS()\n",
    "#             user2RPS = RPS()\n",
    "#             user1 = 0\n",
    "#         elif(user2 == 1):\n",
    "#             user1RPS = RPS()\n",
    "#             user2RPS = RPS()\n",
    "#             user2 = 0\n",
    "#         if(user1RPS=='R' and user2RPS=='P'):\n",
    "#             print('user 2 wins')\n",
    "#         elif(user1RPS=='R' and user2RPS=='R'):\n",
    "#             print('Tie')\n",
    "#         elif(user1RPS=='R' and user2RPS=='S'):\n",
    "#             print(f'{userName} wins')\n",
    "    if(user1wins>user1loose):\n",
    "        returnvariable = 'user1Wins'\n",
    "    elif(user1wins==user1loose):\n",
    "        returnvariable = 'tie'\n",
    "    else:\n",
    "        returnvariable = 'user1looses'\n",
    "    return [returnvariable,totalMatch]\n",
    "\n",
    "\n",
    "main()\n",
    "    "
   ]
  },
  {
   "cell_type": "code",
   "execution_count": null,
   "id": "b709405a",
   "metadata": {},
   "outputs": [],
   "source": [
    "# a = '2f'\n",
    "# c = '3c'\n",
    "# b = '4g'\n",
    "# max(int(a[0:1]),int(c[0:1]),int(b[0:1]))"
   ]
  },
  {
   "cell_type": "code",
   "execution_count": null,
   "id": "78dd9b6f",
   "metadata": {},
   "outputs": [],
   "source": [
    "# (10**0)(i-0)       #i = 1\n",
    "# (10**1)(i-1) + (10**0)(i-0) + (10**1)(i-1)    #i = 2\n",
    "# (10**2)(i-2) + (10**1)(i-1) + (10**0)(i-0) + (10**2)(i-1) + (10**1)(i-2)   # i = 3\n",
    "# (10**3)(i-3) + (10**2)(i-1) + (10**1)(i-1) + (10**0)(i-0) + (10**2)(i-1) + (10**1)(i-2) + (10**3)(i-3)    #i = 4\n",
    "\n",
    "\n",
    "\n",
    "# # (10**4)(i-4) + (10**3)(i-3) + (10**2)(i-1) + (10**1)(i-1) + (10**0)(i-0)"
   ]
  },
  {
   "cell_type": "code",
   "execution_count": null,
   "id": "f4953106",
   "metadata": {},
   "outputs": [],
   "source": [
    "a = 3\n",
    "b = a\n",
    "a = a+1\n",
    "print(a,b)"
   ]
  }
 ],
 "metadata": {
  "kernelspec": {
   "display_name": "Python 3 (ipykernel)",
   "language": "python",
   "name": "python3"
  },
  "language_info": {
   "codemirror_mode": {
    "name": "ipython",
    "version": 3
   },
   "file_extension": ".py",
   "mimetype": "text/x-python",
   "name": "python",
   "nbconvert_exporter": "python",
   "pygments_lexer": "ipython3",
   "version": "3.10.5"
  }
 },
 "nbformat": 4,
 "nbformat_minor": 5
}

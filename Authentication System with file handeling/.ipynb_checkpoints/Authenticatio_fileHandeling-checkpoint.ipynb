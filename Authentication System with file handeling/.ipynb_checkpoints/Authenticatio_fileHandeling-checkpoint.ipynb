{
 "cells": [
  {
   "cell_type": "code",
   "execution_count": 1,
   "id": "fe63e73f",
   "metadata": {},
   "outputs": [],
   "source": []
  },
  {
   "cell_type": "code",
   "execution_count": 2,
   "id": "91e21eab",
   "metadata": {},
   "outputs": [
    {
     "name": "stdout",
     "output_type": "stream",
     "text": [
      "2d animation\n"
     ]
    }
   ],
   "source": [
    "# d ={'admin':'Pj@123456'}\n",
    "# num = {'+919399374451':'admin'}\n",
    "# SQ = {'what is your hobby ?':'2d animation'}\n",
    "# print(SQ['what is your hobby ?'])\n",
    "import random"
   ]
  },
  {
   "cell_type": "code",
   "execution_count": 3,
   "id": "6addc329",
   "metadata": {},
   "outputs": [
    {
     "name": "stdout",
     "output_type": "stream",
     "text": [
      "Pj@123456\n"
     ]
    }
   ],
   "source": [
    "x = d['admin']\n",
    "print(x)"
   ]
  },
  {
   "cell_type": "code",
   "execution_count": 4,
   "id": "65d57347",
   "metadata": {},
   "outputs": [],
   "source": [
    "def checkPasswordStrength():\n",
    "    while 1:\n",
    "        flag = 0\n",
    "        passUp = input(\"Enter a strong password\")\n",
    "        if(not(passUp.isdigit())):\n",
    "            flag = flag+1\n",
    "        if(not(passUp.isalpha())):\n",
    "            flag = flag + 1\n",
    "        if(not(passUp.isalnum())):\n",
    "            flag = flag + 1\n",
    "        if(flag==3):\n",
    "            return passUp\n",
    "def forgotPass(userIn):\n",
    "    flag2 = 3\n",
    "    while flag2:\n",
    "        t = input(\"what is your hobby ?\").lower()\n",
    "        if(t==SQ['what is your hobby ?']):\n",
    "            \n",
    "            while 1:\n",
    "                s = checkPasswordStrength()\n",
    "                d.update({userIn:s})\n",
    "                return s\n",
    "        else:\n",
    "            flag2 = flag2 - 1 \n",
    "            print(\"incorrect , please try again\")\n",
    "    return 'Failed'\n",
    "\n",
    "\n",
    "def SequrityQuest():\n",
    "    f = input('What is your hobby')\n",
    "    SQ.update({'what is your hobby ?':f})\n",
    "    return 'SQ added'\n",
    "    \n",
    "def OTPgenerator():\n",
    "    otp = random.randint(1000,9999)\n",
    "    return otp\n",
    "def numSignUp():\n",
    "    x = input('enter mobile number')\n",
    "    return x\n",
    "\n",
    "\n",
    "def numSignIn(userIn):            #verifyUser\n",
    "    flag = True\n",
    "    while(flag):\n",
    "        inputMobNo = input('enter your registered mobile number')\n",
    "        if((inputMobNo in num) and num[inputMobNo]==userIn):\n",
    "            OTP = OTPgenerator()\n",
    "            print(OTP)\n",
    "            return OTP;\n",
    "\n",
    "\n",
    "def VerifyOTP(abcd,userIn):       #abcd is the return value of numSignIn\n",
    "    x = int(input(\"enter the OTP you get on your phone\"))\n",
    "    if(x == abcd):\n",
    "        while 1:\n",
    "            s = checkPasswordStrength()\n",
    "            d.update({userIn:s})\n",
    "            print(\"checked\")\n",
    "            return True\n",
    "    return False\n",
    "\n",
    "        \n",
    "def ResetPass(userIn):\n",
    "    x = input('''seems like you forgot your password to reset you password\n",
    "            press 1 for OTP method\n",
    "            press 2 for Security Question Method''')\n",
    "    if(x=='2'):\n",
    "        forgotPass(userIn)\n",
    "        signIn()\n",
    "    if(x=='1'):\n",
    "        abcd = numSignIn(userIn)\n",
    "        if VerifyOTP(abcd,userIn):\n",
    "            signIn()\n",
    "            return 'Successfull'\n",
    "        else:\n",
    "            return 'Failed'\n",
    "        \n",
    "        \n",
    "        "
   ]
  },
  {
   "cell_type": "code",
   "execution_count": 5,
   "id": "9e17d15d",
   "metadata": {},
   "outputs": [
    {
     "name": "stdout",
     "output_type": "stream",
     "text": [
      "dict_items([('admin', 'Pj@123456')])\n"
     ]
    }
   ],
   "source": [
    "def signUp():\n",
    "    while 1:\n",
    "        userUp = input('Enter a Username: ').lower()\n",
    "        if userUp =='0':\n",
    "            return 'Failed'\n",
    "        if userUp not in d:\n",
    "            passUp = checkPasswordStrength()\n",
    "            st1 = 3\n",
    "            while st1:\n",
    "                passUp2 = input(\"Re-enter your password\")\n",
    "                if(passUp==passUp2):\n",
    "                    d.update({userUp:passUp})\n",
    "                    sqAns = SequrityQuest()\n",
    "                    Unum = numSignUp()\n",
    "                    num.update({Unum:userUp})\n",
    "                    print('Sign Up successfull')\n",
    "                    signIn()\n",
    "                    return True\n",
    "                else:\n",
    "                    print(\"Password does not match , please Try again\")\n",
    "            return 'Failed'\n",
    "        else:\n",
    "            print(\"\"\"Username already exists... Plz try another Username\n",
    "            Press 0 to exit \n",
    "            Or \"\"\")\n",
    "#         SequrityQuest()\n",
    "    \n",
    "            \n",
    "            \n",
    "# userIn = 'pass'\n",
    "print(d.items())\n",
    "def signIn():\n",
    "    flag1 = 3\n",
    "    while flag1:\n",
    "        userIn = input('Enter you user Name')\n",
    "        if(userIn in d):\n",
    "            flag1 = 3\n",
    "            while flag1:\n",
    "                passIn = input(\"enter your password\")\n",
    "                if(passIn == d[userIn]):\n",
    "                    print(f\" Welcome {userIn}\")\n",
    "                    return userIn\n",
    "                else:\n",
    "                    print(\"invlaid password\")\n",
    "                    flag1 = flag1-1\n",
    "            ResetPass(userIn)\n",
    "                \n",
    "    \n",
    "        else:\n",
    "            flag1 = flag1 - 1\n",
    "    return False"
   ]
  },
  {
   "cell_type": "code",
   "execution_count": 11,
   "id": "ebb6e423",
   "metadata": {},
   "outputs": [
    {
     "ename": "SyntaxError",
     "evalue": "invalid syntax. Maybe you meant '==' or ':=' instead of '='? (2384170193.py, line 9)",
     "output_type": "error",
     "traceback": [
      "\u001b[1;36m  Cell \u001b[1;32mIn[11], line 9\u001b[1;36m\u001b[0m\n\u001b[1;33m    if(a = signUp())\u001b[0m\n\u001b[1;37m       ^\u001b[0m\n\u001b[1;31mSyntaxError\u001b[0m\u001b[1;31m:\u001b[0m invalid syntax. Maybe you meant '==' or ':=' instead of '='?\n"
     ]
    }
   ],
   "source": [
    "def main():\n",
    "    while 1:\n",
    "        mode = input('''choose mode:\n",
    "        Press 1 to SignUp\n",
    "        Press 2 to SignIn\n",
    "        Press 0 to exit\n",
    "        : ''')\n",
    "        if(mode=='1'):\n",
    "            signUp()\n",
    "#             break\n",
    "            return 'Done'\n",
    "#             print('\n",
    "        elif(mode=='2'):\n",
    "            signIn()\n",
    "#             break\n",
    "            return True\n",
    "        elif(mode=='0'):\n",
    "            print(\"Thankyou for using our service\")\n",
    "            break\n",
    "        else:\n",
    "            print(\"enter valid input\")\n",
    "# main()"
   ]
  },
  {
   "cell_type": "code",
   "execution_count": 7,
   "id": "3d715d38",
   "metadata": {},
   "outputs": [],
   "source": [
    "# def numSignIn():            #verifyUser\n",
    "#     flag = True\n",
    "#     while(flag):\n",
    "#         if(flag):\n",
    "#             OTP = 7\n",
    "#         if (flag):\n",
    "#             return OTP;\n",
    "# a = numSignIn()\n",
    "# print(a)"
   ]
  },
  {
   "cell_type": "code",
   "execution_count": null,
   "id": "4dbd90eb",
   "metadata": {},
   "outputs": [],
   "source": []
  },
  {
   "cell_type": "code",
   "execution_count": null,
   "id": "3a845955",
   "metadata": {},
   "outputs": [],
   "source": []
  },
  {
   "cell_type": "code",
   "execution_count": 8,
   "id": "92618c1b",
   "metadata": {},
   "outputs": [
    {
     "ename": "NameError",
     "evalue": "name 'userIn' is not defined",
     "output_type": "error",
     "traceback": [
      "\u001b[1;31m---------------------------------------------------------------------------\u001b[0m",
      "\u001b[1;31mNameError\u001b[0m                                 Traceback (most recent call last)",
      "Cell \u001b[1;32mIn[8], line 1\u001b[0m\n\u001b[1;32m----> 1\u001b[0m \u001b[43muserIn\u001b[49m\n",
      "\u001b[1;31mNameError\u001b[0m: name 'userIn' is not defined"
     ]
    }
   ],
   "source": []
  }
 ],
 "metadata": {
  "kernelspec": {
   "display_name": "Python 3 (ipykernel)",
   "language": "python",
   "name": "python3"
  },
  "language_info": {
   "codemirror_mode": {
    "name": "ipython",
    "version": 3
   },
   "file_extension": ".py",
   "mimetype": "text/x-python",
   "name": "python",
   "nbconvert_exporter": "python",
   "pygments_lexer": "ipython3",
   "version": "3.10.5"
  }
 },
 "nbformat": 4,
 "nbformat_minor": 5
}
